{
  "nbformat": 4,
  "nbformat_minor": 0,
  "metadata": {
    "colab": {
      "provenance": []
    },
    "kernelspec": {
      "name": "python3",
      "display_name": "Python 3"
    },
    "language_info": {
      "name": "python"
    }
  },
  "cells": [
    {
      "cell_type": "code",
      "source": [
        "import pandas as pd\n",
        "import numpy as np\n",
        "\n",
        "# Number of samples\n",
        "n = 5000\n",
        "\n",
        "np.random.seed(42)\n",
        "\n",
        "data = pd.DataFrame({\n",
        "    'Temperature': np.random.uniform(20, 40, n),\n",
        "    'Rainfall': np.random.uniform(0, 300, n),\n",
        "    'Humidity': np.random.uniform(40, 90, n),\n",
        "    'WindSpeed': np.random.uniform(0, 20, n),\n",
        "    'TopographyScore': np.random.randint(1, 11, n),\n",
        "    'PopulationDensity': np.random.randint(50, 2000, n),\n",
        "})\n",
        "\n",
        "# Create synthetic risk scores\n",
        "data['FloodRiskScore'] = (data['Rainfall']/300 + data['TopographyScore']/10 + data['PopulationDensity']/2000)/3\n",
        "data['DroughtRiskScore'] = (1 - data['Rainfall']/300 + (10 - data['TopographyScore'])/10 + data['Temperature']/40)/3\n",
        "\n",
        "# Normalize between 0 and 1\n",
        "data['FloodRiskScore'] = data['FloodRiskScore'].clip(0, 1)\n",
        "data['DroughtRiskScore'] = data['DroughtRiskScore'].clip(0, 1)\n",
        "\n",
        "# Save CSV\n",
        "data.to_csv(\"climate_risk_data.csv\", index=False)\n",
        "print(\"Synthetic dataset 'climate_risk_data.csv' created successfully!\")\n"
      ],
      "metadata": {
        "colab": {
          "base_uri": "https://localhost:8080/"
        },
        "id": "iBhYBU2BzPU2",
        "outputId": "8803eb33-8611-4942-9654-3ae373f3b3fb"
      },
      "execution_count": 12,
      "outputs": [
        {
          "output_type": "stream",
          "name": "stdout",
          "text": [
            "Synthetic dataset 'climate_risk_data.csv' created successfully!\n"
          ]
        }
      ]
    },
    {
      "cell_type": "code",
      "source": [
        "# Climate Risk Mapping: Predictive Analysis and Forecasting Using ML\n",
        "# Author: Jyothika Chowdary Atthota\n",
        "# Date: 2025-09-13\n",
        "\n",
        "# Import libraries\n",
        "import pandas as pd\n",
        "import numpy as np\n",
        "import matplotlib.pyplot as plt\n",
        "import seaborn as sns\n",
        "\n",
        "from sklearn.model_selection import train_test_split, GridSearchCV\n",
        "from sklearn.preprocessing import StandardScaler\n",
        "from sklearn.ensemble import RandomForestRegressor\n",
        "from sklearn.metrics import mean_squared_error, r2_score\n",
        "\n",
        "import warnings\n",
        "warnings.filterwarnings('ignore')\n",
        "\n",
        "# 1. Load Dataset\n",
        "# Dataset should include historical climate data and risk labels\n",
        "# Example columns: ['Temperature', 'Rainfall', 'Humidity', 'WindSpeed', 'FloodRiskScore', 'DroughtRiskScore', ...]\n",
        "try:\n",
        "    data = pd.read_csv(\"GlobalLandTemperaturesByCity.csv\")\n",
        "    print(\"Dataset Loaded Successfully\")\n",
        "    print(data.head())\n",
        "except FileNotFoundError:\n",
        "    print(\"Error: 'GlobalLandTemperaturesByCity.csv' not found. Please make sure the file is in the correct directory.\")\n",
        "    exit() # Exit if the file is not found\n",
        "\n",
        "\n",
        "# 2. Data Preprocessing\n",
        "# Check for missing values\n",
        "print(\"\\nMissing Values:\\n\", data.isnull().sum())\n",
        "\n",
        "# Fill missing values (using median for numeric columns)\n",
        "numeric_cols = data.select_dtypes(include=np.number).columns\n",
        "data[numeric_cols] = data[numeric_cols].fillna(data[numeric_cols].median())\n",
        "\n",
        "\n",
        "# Feature selection\n",
        "# Update features based on available columns in GlobalLandTemperaturesByCity.csv\n",
        "# Based on the head of the dataframe, the first two unnamed columns appear to be the temperature data\n",
        "features = [data.columns[0], data.columns[1]] # Assuming the first two columns are the relevant features\n",
        "target = data.columns[0]  # Assuming the first column is the target variable\n",
        "\n",
        "X = data[features]\n",
        "y = data[target]\n",
        "\n",
        "# Feature scaling\n",
        "scaler = StandardScaler()\n",
        "X_scaled = scaler.fit_transform(X)\n",
        "\n",
        "# Split data\n",
        "X_train, X_test, y_train, y_test = train_test_split(X_scaled, y, test_size=0.2, random_state=42)\n",
        "\n",
        "# 3. Model Building\n",
        "# Random Forest Regressor\n",
        "rf_model = RandomForestRegressor(n_estimators=200, random_state=42)\n",
        "rf_model.fit(X_train, y_train)\n",
        "\n",
        "# 4. Model Evaluation\n",
        "y_pred = rf_model.predict(X_test)\n",
        "\n",
        "mse = mean_squared_error(y_test, y_pred)\n",
        "r2 = r2_score(y_test, y_pred)\n",
        "\n",
        "print(\"\\nModel Evaluation:\")\n",
        "print(f\"Mean Squared Error: {mse:.4f}\")\n",
        "print(f\"R2 Score: {r2:.4f}\")\n",
        "\n",
        "# 5. Feature Importance\n",
        "# Update feature importance plotting based on the new features\n",
        "importance = rf_model.feature_importances_\n",
        "feat_importance = pd.DataFrame({'Feature': features, 'Importance': importance})\n",
        "feat_importance = feat_importance.sort_values(by='Importance', ascending=False)\n",
        "print(\"\\nFeature Importance:\\n\", feat_importance)\n",
        "\n",
        "# Plot feature importance\n",
        "plt.figure(figsize=(8,5))\n",
        "sns.barplot(x='Importance', y='Feature', data=feat_importance)\n",
        "plt.title('Feature Importance for Temperature Prediction') # Updated title\n",
        "plt.show()\n",
        "\n",
        "# 6. Predict Future Risk (Forecasting Example)\n",
        "# Suppose we have new climate data for prediction\n",
        "# Update new_data structure based on the new features\n",
        "new_data = pd.DataFrame({\n",
        "    features[0]: [25, 30],\n",
        "    features[1]: [1.5, 2.0]\n",
        "})\n",
        "\n",
        "\n",
        "new_data_scaled = scaler.transform(new_data)\n",
        "future_predictions = rf_model.predict(new_data_scaled)\n",
        "\n",
        "print(\"\\nFuture Temperature Predictions:\\n\", future_predictions) # Updated output message\n",
        "\n",
        "# 7. Optional: Save Model\n",
        "import joblib\n",
        "joblib.dump(rf_model, \"climate_risk_model.pkl\")\n",
        "joblib.dump(scaler, \"scaler.pkl\")\n",
        "print(\"\\nModel and Scaler Saved Successfully\")"
      ],
      "metadata": {
        "colab": {
          "base_uri": "https://localhost:8080/",
          "height": 1000
        },
        "id": "QmSNEGN6ygBj",
        "outputId": "f0c967da-d82a-40db-de12-b11b98eb08c2"
      },
      "execution_count": 16,
      "outputs": [
        {
          "output_type": "stream",
          "name": "stdout",
          "text": [
            "Dataset Loaded Successfully\n",
            "            9999999999998  0.426  Amol  Iran  36.17N  51.71E\n",
            "1903-02-01          3.268  0.908  Amol  Iran  36.17N  51.71E\n",
            "1903-03-01          2.422  1.332  Amol  Iran  36.17N  51.71E\n",
            "1903-04-01         11.272  0.411  Amol  Iran  36.17N  51.71E\n",
            "1903-05-01         17.698  0.579  Amol  Iran  36.17N  51.71E\n",
            "1903-06-01         22.525  0.822  Amol  Iran  36.17N  51.71E\n",
            "\n",
            "Missing Values:\n",
            " 9999999999998    970\n",
            "0.426            970\n",
            "Amol               0\n",
            "Iran               1\n",
            "36.17N             1\n",
            "51.71E             1\n",
            "dtype: int64\n",
            "\n",
            "Model Evaluation:\n",
            "Mean Squared Error: 0.0000\n",
            "R2 Score: 1.0000\n",
            "\n",
            "Feature Importance:\n",
            "          Feature    Importance\n",
            "0  9999999999998  9.999997e-01\n",
            "1          0.426  3.095303e-07\n"
          ]
        },
        {
          "output_type": "display_data",
          "data": {
            "text/plain": [
              "<Figure size 800x500 with 1 Axes>"
            ],
            "image/png": "[encoded data removed]"
          },
          "metadata": {}
        },
        {
          "output_type": "stream",
          "name": "stdout",
          "text": [
            "\n",
            "Future Temperature Predictions:\n",
            " [24.99857  29.996705]\n",
            "\n",
            "Model and Scaler Saved Successfully\n"
          ]
        }
      ]
    }
  ]
}